{
 "cells": [
  {
   "metadata": {},
   "cell_type": "markdown",
   "source": "# Скрипт на скачивание модели",
   "id": "6b6cdf6f821ede25"
  },
  {
   "cell_type": "code",
   "id": "initial_id",
   "metadata": {
    "collapsed": true,
    "ExecuteTime": {
     "end_time": "2024-11-09T20:43:30.462313Z",
     "start_time": "2024-11-09T20:43:29.415426Z"
    }
   },
   "source": [
    "import tensorflow as tf\n",
    "\n",
    "# Скачайте и загрузите модель\n",
    "base_model = tf.keras.applications.InceptionV3(include_top=False, weights='imagenet')\n",
    "\n",
    "# Сохраните модель в локальную папку\n",
    "base_model.save('local_inception_model.keras')\n",
    "print(\"Модель сохранена в папке 'local_inception_model.keras'\")"
   ],
   "outputs": [
    {
     "name": "stdout",
     "output_type": "stream",
     "text": [
      "Модель сохранена в папке 'local_inception_model.keras'\n"
     ]
    }
   ],
   "execution_count": 2
  },
  {
   "metadata": {},
   "cell_type": "code",
   "outputs": [],
   "execution_count": null,
   "source": "",
   "id": "126d9891ff071dd9"
  }
 ],
 "metadata": {
  "kernelspec": {
   "display_name": "Python 3",
   "language": "python",
   "name": "python3"
  },
  "language_info": {
   "codemirror_mode": {
    "name": "ipython",
    "version": 2
   },
   "file_extension": ".py",
   "mimetype": "text/x-python",
   "name": "python",
   "nbconvert_exporter": "python",
   "pygments_lexer": "ipython2",
   "version": "2.7.6"
  }
 },
 "nbformat": 4,
 "nbformat_minor": 5
}
